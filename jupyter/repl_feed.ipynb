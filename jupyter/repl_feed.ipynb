{
 "cells": [
  {
   "cell_type": "code",
   "execution_count": null,
   "metadata": {},
   "outputs": [],
   "source": [
    "import pymongo\n",
    "import dotenv\n",
    "import os\n",
    "\n",
    "dotenv.load_dotenv()\n",
    "\n",
    "db_host = os.getenv(\"MONGODB_HOST\")\n",
    "db_port = int(os.getenv(\"MONGODB_PORT\"))\n",
    "db_name = os.getenv(\"MONGODB_DBNAME\")\n",
    "db_username = os.getenv(\"MONGODB_USERNAME\")\n",
    "db_password = os.getenv(\"MONGODB_PASSWORD\")\n",
    "\n",
    "client = pymongo.MongoClient(f\"mongodb://{db_username}:{db_password}@{db_host}:{db_port}/{db_name}?authSource=admin\")\n",
    "\n",
    "db = client['itb_db']\n",
    "\n",
    "ypricedatas = db['ypricedatas']\n",
    "stocks = db['stocks']\n",
    "\n",
    "repl = client['itb_repl']\n",
    "repl_ypricedatas = repl['ypricedatas']\n",
    "\n",
    "for ypd in ypricedatas.find() :\n",
    "  repl_ypricedatas.insert_one(ypd)"
   ]
  }
 ],
 "metadata": {
  "language_info": {
   "name": "python"
  },
  "orig_nbformat": 4
 },
 "nbformat": 4,
 "nbformat_minor": 2
}
